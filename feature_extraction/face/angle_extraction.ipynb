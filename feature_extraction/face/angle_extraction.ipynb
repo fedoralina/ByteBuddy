{
 "cells": [
  {
   "cell_type": "code",
   "execution_count": 99,
   "metadata": {},
   "outputs": [],
   "source": [
    "import pandas as pd\n",
    "import logging\n",
    "import math\n",
    "\n",
    "WINDOW_SIZE = 15\n",
    "\n",
    "pd.set_option('display.max_rows', 500)"
   ]
  },
  {
   "cell_type": "code",
   "execution_count": 3,
   "metadata": {},
   "outputs": [],
   "source": [
    "df = pd.read_csv('AU_data/happiness_c.csv')"
   ]
  },
  {
   "cell_type": "code",
   "execution_count": 6,
   "metadata": {},
   "outputs": [],
   "source": [
    "# remove_whitespaces()\n",
    "df.columns = [col.strip() for col in df.columns]"
   ]
  },
  {
   "cell_type": "code",
   "execution_count": 14,
   "metadata": {},
   "outputs": [],
   "source": [
    "# get_required_cols()\n",
    "df = df[['frame', 'timestamp', 'x_30', 'y_30', 'x_48', 'y_48', 'x_54', 'y_54']]"
   ]
  },
  {
   "cell_type": "code",
   "execution_count": 45,
   "metadata": {},
   "outputs": [],
   "source": [
    "def calculate_angles(x1, y1, x2, y2, x3, y3):\n",
    "    # calc distances between points\n",
    "    a = math.sqrt((x2 - x3)**2 + (y2 - y3)**2)\n",
    "    b = math.sqrt((x1 - x3)**2 + (y1 - y3)**2)\n",
    "    c = math.sqrt((x1 - x2)**2 + (y1 - y2)**2)\n",
    "\n",
    "    # calc angles\n",
    "    angle_A = math.degrees(math.acos((b**2 + c**2 - a**2) / (2 * b * c)))\n",
    "    angle_B = math.degrees(math.acos((a**2 + c**2 - b**2) / (2 * a * c)))\n",
    "    angle_C = 180 - angle_A - angle_B\n",
    "\n",
    "    return angle_A, angle_B, angle_C"
   ]
  },
  {
   "cell_type": "code",
   "execution_count": 97,
   "metadata": {},
   "outputs": [],
   "source": [
    "def check_exceed_threshold(LM_angles_start, LM_angles):\n",
    "    # requirement 1: angle at LM30 increases (min +16°)\n",
    "    req_1 = (LM_angles[0] - LM_angles_start[0]) >= 16.0\n",
    "    # requirement 2: angle at LM48 decreases (min -6°)\n",
    "    req_2 = (LM_angles[1] - LM_angles_start[1]) <= 6.0\n",
    "    # requirement 3: angle at LM54 decreases (min -6°)\n",
    "    req_3 = (LM_angles[2] - LM_angles_start[2]) <= 6.0\n",
    "\n",
    "    if (req_1 and req_2 and req_3):\n",
    "        return True\n",
    "    else:\n",
    "        return False"
   ]
  },
  {
   "cell_type": "code",
   "execution_count": 100,
   "metadata": {},
   "outputs": [
    {
     "name": "stdout",
     "output_type": "stream",
     "text": [
      "Frame(s) 1 to 16 | Mean values of LM angles [LM30, LM48, LM54]: [62.19, 58.24, 59.57] \n",
      "No smile detected\n",
      "Frame(s) 16 to 31 | Mean values of LM angles [LM30, LM48, LM54]: [62.37, 58.28, 59.35] \n",
      "No smile detected\n",
      "Frame(s) 31 to 46 | Mean values of LM angles [LM30, LM48, LM54]: [78.61, 50.13, 51.26] \n",
      "Smile is detected for n=1.\n",
      "Frame(s) 46 to 61 | Mean values of LM angles [LM30, LM48, LM54]: [86.73, 46.02, 47.25] \n",
      "Smile is detected for n=2.\n",
      "Smile was held long enough. B will be reloaded now.\n"
     ]
    }
   ],
   "source": [
    "# mean_activation_per_window()\n",
    "num_seconds = 2\n",
    "step_size = 15\n",
    "\n",
    "# extract start and end frame number\n",
    "start_frame = df['frame'].iloc[0]\n",
    "end_frame = df['frame'].iloc[-1] + 1\n",
    "current_frame = start_frame\n",
    "LM_angles_start = calculate_angles(*list(df.loc[0, ['x_30', 'y_30', 'x_48', 'y_48', 'x_54', 'y_54']].values))\n",
    "\n",
    "\n",
    "num_exceeded = 0\n",
    "while current_frame < end_frame:\n",
    "    if num_exceeded >= num_seconds:\n",
    "        break\n",
    "    remaining_frames = end_frame - current_frame\n",
    "    ## drop the last frames as they cannot be taken into account as a \"whole\" second\n",
    "    if remaining_frames < WINDOW_SIZE:\n",
    "        logging.info(f\"#frames = {remaining_frames} is smaller than the window size (={WINDOW_SIZE}). The remaining frame amount will be dropped.\")\n",
    "        break\n",
    "    window_start = current_frame\n",
    "    # Ensure not to exceed end_frame\n",
    "    window_end = min(current_frame + WINDOW_SIZE + 1, end_frame)\n",
    "    window_data = df[(df['frame'] >= window_start) & (df['frame'] < window_end)]\n",
    "    \n",
    "    mean_LM_positions = list(window_data[['x_30', 'y_30', 'x_48', 'y_48', 'x_54', 'y_54']].mean())\n",
    "    LM_angles = calculate_angles(*mean_LM_positions)\n",
    "\n",
    "    logging.info(f\"Frame(s) {window_data['frame'].iloc[0]} to {window_data['frame'].iloc[-1]} | Mean values of LM angles [LM30, LM48, LM54]: {[round(num, 2) for num in LM_angles]} \")\n",
    "\n",
    "    if check_exceed_threshold(LM_angles_start, LM_angles):\n",
    "        num_exceeded += 1\n",
    "        logging.info(f\"Smile is detected for n={num_exceeded}.\")\n",
    "    else:\n",
    "        # reset window size of smiling\n",
    "        num_exceeded = 0\n",
    "        logging.info(\"No smile detected\")\n",
    "\n",
    "    current_frame += step_size\n",
    "\n",
    "\n",
    "if num_exceeded >= num_seconds:\n",
    "    logging.info(\"Smile was held long enough. B will be reloaded now.\")\n",
    "elif (num_exceeded < num_seconds) and (num_exceeded > 0):\n",
    "    logging.info(\"Smile was held too short to reload B completely. It has to be done again.\")\n",
    "else:\n",
    "    logging.info(\"Smile task was not executed as required. Display details in the UI.\")"
   ]
  },
  {
   "cell_type": "code",
   "execution_count": null,
   "metadata": {},
   "outputs": [],
   "source": []
  }
 ],
 "metadata": {
  "kernelspec": {
   "display_name": "hci",
   "language": "python",
   "name": "python3"
  },
  "language_info": {
   "codemirror_mode": {
    "name": "ipython",
    "version": 3
   },
   "file_extension": ".py",
   "mimetype": "text/x-python",
   "name": "python",
   "nbconvert_exporter": "python",
   "pygments_lexer": "ipython3",
   "version": "3.11.5"
  }
 },
 "nbformat": 4,
 "nbformat_minor": 2
}
